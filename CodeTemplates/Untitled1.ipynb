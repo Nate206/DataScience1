{
 "cells": [
  {
   "cell_type": "code",
   "execution_count": 4,
   "id": "9fed09ee",
   "metadata": {},
   "outputs": [
    {
     "name": "stdout",
     "output_type": "stream",
     "text": [
      "23.0\n"
     ]
    }
   ],
   "source": [
    "print((12+10+6+18)/2)"
   ]
  },
  {
   "cell_type": "code",
   "execution_count": 5,
   "id": "cc174ac5",
   "metadata": {},
   "outputs": [
    {
     "ename": "NameError",
     "evalue": "name 'mean' is not defined",
     "output_type": "error",
     "traceback": [
      "\u001b[0;31m---------------------------------------------------------------------------\u001b[0m",
      "\u001b[0;31mNameError\u001b[0m                                 Traceback (most recent call last)",
      "Cell \u001b[0;32mIn[5], line 5\u001b[0m\n\u001b[1;32m      1\u001b[0m animals \u001b[38;5;241m=\u001b[39m {\n\u001b[1;32m      2\u001b[0m     \u001b[38;5;124m\"\u001b[39m\u001b[38;5;124mcats\u001b[39m\u001b[38;5;124m\"\u001b[39m:[\u001b[38;5;241m12\u001b[39m,\u001b[38;5;241m10\u001b[39m,\u001b[38;5;241m6\u001b[39m,\u001b[38;5;241m18\u001b[39m],\n\u001b[1;32m      3\u001b[0m     \u001b[38;5;124m\"\u001b[39m\u001b[38;5;124mdogs\u001b[39m\u001b[38;5;124m\"\u001b[39m:[\u001b[38;5;241m35\u001b[39m,\u001b[38;5;241m97\u001b[39m,\u001b[38;5;241m102\u001b[39m,\u001b[38;5;241m7\u001b[39m]\n\u001b[1;32m      4\u001b[0m }\n\u001b[0;32m----> 5\u001b[0m avgcat \u001b[38;5;241m=\u001b[39m mean(animals[\u001b[38;5;124m\"\u001b[39m\u001b[38;5;124mcats\u001b[39m\u001b[38;5;124m\"\u001b[39m])\n",
      "\u001b[0;31mNameError\u001b[0m: name 'mean' is not defined"
     ]
    }
   ],
   "source": [
    "animals = {\n",
    "    \"cats\":[12,10,6,18],\n",
    "    \"dogs\":[35,97,102,7]\n",
    "}\n",
    "avgcat = mean(animals[\"cats\"])\n",
    "print()"
   ]
  },
  {
   "cell_type": "code",
   "execution_count": null,
   "id": "f15ecd71",
   "metadata": {},
   "outputs": [],
   "source": []
  }
 ],
 "metadata": {
  "kernelspec": {
   "display_name": "Python 3 (ipykernel)",
   "language": "python",
   "name": "python3"
  },
  "language_info": {
   "codemirror_mode": {
    "name": "ipython",
    "version": 3
   },
   "file_extension": ".py",
   "mimetype": "text/x-python",
   "name": "python",
   "nbconvert_exporter": "python",
   "pygments_lexer": "ipython3",
   "version": "3.11.4"
  }
 },
 "nbformat": 4,
 "nbformat_minor": 5
}
