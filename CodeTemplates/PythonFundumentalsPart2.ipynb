{
 "cells": [
  {
   "cell_type": "code",
   "execution_count": 19,
   "id": "6eeefe86",
   "metadata": {},
   "outputs": [],
   "source": [
    "pirates1 = {\n",
    "    \"Name\":[\"Edward Teach\",\"Anne Bonny\",\"John Rackham\",\"Cheung Po Tsai\",\"Grace O'Malley\",\"Mary Read\",\"Sayyida al Hurra\",\"Zheng Yi Sao\",\"Francis Drake\",\"Jean Lafitte\"],\n",
    "    \"Years Active\":[\"1716-1718\",\"1718-1720\",\"1718-1720\",\"1798-1810\",\"1564-1595\",\"1708-1721\",\"1515-1545\",\"1801-1810\",\"1563-1596\",\"1810-1823\"],\n",
    "    \"Sailed\":[\"Caribbean\",\"Caribbean\",\"Caribbean\",\"South China Sea\",\"British isles\",\"Caribbean\",\"Mediterranean\",\"South China Sea\",\"Caribbean\",\"Gulf of Mexico\"],\n",
    "    \"Allas\":[\"Blackbeard\",\"\",\"Calico Jack\",\"The Kid\",\"Queen of Ireland\",\"Mark\", \"Hakimat Titwan\",\"Ching Shih\",\"Sir Francis Drake\",\"Terror of the Gulf\"]\n",
    "}\n"
   ]
  },
  {
   "cell_type": "code",
   "execution_count": 22,
   "id": "48f6bd4f",
   "metadata": {},
   "outputs": [],
   "source": [
    "pirates = {\n",
    "    \"Pirate\":[\"Blackbeard\", \"Anne Bonny\", \"Calico Jack\", \"Cheung Po Tsai\", \"Grace O'Malley\", \"Mary Read\", \"Sayyida al Hurra\", \"Ching Shih\", \"Sir Francis Drake\", \"Jean Lafittte\"],\n",
    "    \"Sex\":[\"M\", \"F\", \"M\", \"M\", \"F\", \"F\", \"F\", \"F\", \"M\", \"M\"],\n",
    "    \"Age at Death\":[40, 24, 37, 39, 73, 36, 75, 69, 56, 46],\n",
    "    \"Height\":[6.4, 5.6, 5.6, 5.3, 5.0, 5.1,0.0, 5.3, 5.5, 6.2],\n",
    "    \"Skull and Crossbones\":[False, True, True, False, False, True, False, False, False, False]\n",
    "}"
   ]
  },
  {
   "cell_type": "code",
   "execution_count": 4,
   "id": "835ab347",
   "metadata": {},
   "outputs": [],
   "source": [
    "pirates2 = {\n",
    "    \"Edward Teach\":[\"1716-1718\",\"Caribbean\",\"Blackbeard\"],\n",
    "    \"Anne Bonny\":[\"1718-1720\",\"Caribbean\",\"\"],\n",
    "    \"John Rackham\":[\"1718-1720\",\"Caribbean\",\"Calico Jack\"],\n",
    "    \"Cheung Po Tsai\":[\"1798-1810\",\"South China Sea\",\"The Kid\"],\n",
    "    \"Grace O'Malley\":[\"1564-1595\",\"British isles\",\"Queen of Ireland\"],\n",
    "    \"Mary Read\":[\"1708-1721\",\"Caribbean\",\"Mark\"],\n",
    "    \"Sayyida al Hurra\":[\"1515-1545\",\"Mediterranean\",\"Hakimat Titwan\"],\n",
    "    \"Zheng Yi Sao\":[\"1801-1810\",\"South China Sea\",\"Ching Shih\"],\n",
    "    \"Francis Drake\":[\"1563-1596\",\"Caribbean\",\"Sir Francis Drake\"],\n",
    "    \"Jean Lafitte\":[\"1810-1823\",\"Gulf of Mexico\",\"Terror of the Gulf\"]\n",
    "}"
   ]
  },
  {
   "cell_type": "code",
   "execution_count": 18,
   "id": "6d77256f",
   "metadata": {},
   "outputs": [
    {
     "name": "stdout",
     "output_type": "stream",
     "text": [
      "5\n"
     ]
    }
   ],
   "source": [
    "sailed_18th = 0\n",
    "\n",
    "for years_active in pirates1[\"Years Active\"]:\n",
    "    start_year = int(years_active.split(\"-\")[0])\n",
    "    end_year = int(years_active.split(\"-\")[1])\n",
    "    if 1700 <= start_year <= 1800 or 1700 <= end_year <= 1800:\n",
    "        sailed_18th += 1\n",
    "\n",
    "print(sailed_18th)\n"
   ]
  },
  {
   "cell_type": "code",
   "execution_count": 16,
   "id": "747fe78e",
   "metadata": {},
   "outputs": [
    {
     "name": "stdout",
     "output_type": "stream",
     "text": [
      "Francis Drake\n"
     ]
    }
   ],
   "source": [
    "longest_career_duration = 0\n",
    "pirate_with_longest_career = \"\"\n",
    "\n",
    "for name, years_active in zip(pirates1[\"Name\"], pirates1[\"Years Active\"]):\n",
    "    start_year = int(years_active.split(\"-\")[0])\n",
    "    end_year = int(years_active.split(\"-\")[1])\n",
    "    career_duration = end_year - start_year + 1\n",
    "    \n",
    "    if career_duration > longest_career_duration:\n",
    "        longest_career_duration = career_duration\n",
    "        pirate_with_longest_career = name\n",
    "\n",
    "print(pirate_with_longest_career)"
   ]
  },
  {
   "cell_type": "code",
   "execution_count": null,
   "id": "14fb6bbb",
   "metadata": {},
   "outputs": [],
   "source": [
    "\n",
    "\n",
    "avg = sum of"
   ]
  },
  {
   "cell_type": "code",
   "execution_count": 23,
   "id": "34f324d7",
   "metadata": {},
   "outputs": [
    {
     "name": "stdout",
     "output_type": "stream",
     "text": [
      "{'Name': ['Edward Teach', 'Anne Bonny', 'John Rackham', 'Cheung Po Tsai', \"Grace O'Malley\", 'Mary Read', 'Sayyida al Hurra', 'Zheng Yi Sao', 'Francis Drake', 'Jean Lafitte'], 'Years Active': ['1716-1718', '1718-1720', '1718-1720', '1798-1810', '1564-1595', '1708-1721', '1515-1545', '1801-1810', '1563-1596', '1810-1823'], 'Sailed': ['Caribbean', 'Caribbean', 'Caribbean', 'South China Sea', 'British isles', 'Caribbean', 'Mediterranean', 'South China Sea', 'Caribbean', 'Gulf of Mexico'], 'Allas': ['Blackbeard', '', 'Calico Jack', 'The Kid', 'Queen of Ireland', 'Mark', 'Hakimat Titwan', 'Ching Shih', 'Sir Francis Drake', 'Terror of the Gulf'], 'Pirate': ['Blackbeard', 'Anne Bonny', 'Calico Jack', 'Cheung Po Tsai', \"Grace O'Malley\", 'Mary Read', 'Sayyida al Hurra', 'Ching Shih', 'Sir Francis Drake', 'Jean Lafittte'], 'Sex': ['M', 'F', 'M', 'M', 'F', 'F', 'F', 'F', 'M', 'M'], 'Age at Death': [40, 24, 37, 39, 73, 36, 75, 69, 56, 46], 'Height': [6.4, 5.6, 5.6, 5.3, 5.0, 5.1, 0.0, 5.3, 5.5, 6.2], 'Skull and Crossbones': [False, True, True, False, False, True, False, False, False, False]}\n"
     ]
    }
   ],
   "source": [
    "pirates1.update(pirates)\n",
    "print(pirates1)"
   ]
  },
  {
   "cell_type": "code",
   "execution_count": 24,
   "id": "40f0ac14",
   "metadata": {},
   "outputs": [
    {
     "name": "stdout",
     "output_type": "stream",
     "text": [
      "Name: ['Edward Teach', 'Anne Bonny', 'John Rackham', 'Cheung Po Tsai', \"Grace O'Malley\", 'Mary Read', 'Sayyida al Hurra', 'Zheng Yi Sao', 'Francis Drake', 'Jean Lafitte']\n",
      "Years Active: ['1716-1718', '1718-1720', '1718-1720', '1798-1810', '1564-1595', '1708-1721', '1515-1545', '1801-1810', '1563-1596', '1810-1823']\n",
      "Sailed: ['Caribbean', 'Caribbean', 'Caribbean', 'South China Sea', 'British isles', 'Caribbean', 'Mediterranean', 'South China Sea', 'Caribbean', 'Gulf of Mexico']\n",
      "Allas: ['Blackbeard', '', 'Calico Jack', 'The Kid', 'Queen of Ireland', 'Mark', 'Hakimat Titwan', 'Ching Shih', 'Sir Francis Drake', 'Terror of the Gulf']\n",
      "Pirate: ['Blackbeard', 'Anne Bonny', 'Calico Jack', 'Cheung Po Tsai', \"Grace O'Malley\", 'Mary Read', 'Sayyida al Hurra', 'Ching Shih', 'Sir Francis Drake', 'Jean Lafittte']\n",
      "Sex: ['M', 'F', 'M', 'M', 'F', 'F', 'F', 'F', 'M', 'M']\n",
      "Age at Death: [40, 24, 37, 39, 73, 36, 75, 69, 56, 46]\n",
      "Height: [6.4, 5.6, 5.6, 5.3, 5.0, 5.1, 0.0, 5.3, 5.5, 6.2]\n",
      "Skull and Crossbones: [False, True, True, False, False, True, False, False, False, False]\n"
     ]
    }
   ],
   "source": [
    "merged_dict = {**pirates1, **pirates}\n",
    "\n",
    "# Print the merged dictionary with each key-value pair on a separate line\n",
    "for key, value in merged_dict.items():\n",
    "    print(f'{key}: {value}')"
   ]
  },
  {
   "cell_type": "code",
   "execution_count": null,
   "id": "880be376",
   "metadata": {},
   "outputs": [],
   "source": []
  }
 ],
 "metadata": {
  "kernelspec": {
   "display_name": "Python 3 (ipykernel)",
   "language": "python",
   "name": "python3"
  },
  "language_info": {
   "codemirror_mode": {
    "name": "ipython",
    "version": 3
   },
   "file_extension": ".py",
   "mimetype": "text/x-python",
   "name": "python",
   "nbconvert_exporter": "python",
   "pygments_lexer": "ipython3",
   "version": "3.11.4"
  }
 },
 "nbformat": 4,
 "nbformat_minor": 5
}
