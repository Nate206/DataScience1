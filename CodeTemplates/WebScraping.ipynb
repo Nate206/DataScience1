{
 "cells": [
  {
   "cell_type": "code",
   "execution_count": 31,
   "id": "c2b45880",
   "metadata": {},
   "outputs": [],
   "source": [
    "import requests\n",
    "from bs4 import BeautifulSoup"
   ]
  },
  {
   "cell_type": "code",
   "execution_count": 32,
   "id": "17474b33",
   "metadata": {},
   "outputs": [],
   "source": [
    "url = \"https://en.wikipedia.org/wiki/List_of_dates_predicted_for_apocalyptic_events\""
   ]
  },
  {
   "cell_type": "code",
   "execution_count": 33,
   "id": "54cee01b",
   "metadata": {},
   "outputs": [],
   "source": [
    "response = requests.get(url)\n",
    "soup  = BeautifulSoup(response.text,'html.parser')"
   ]
  },
  {
   "cell_type": "code",
   "execution_count": 34,
   "id": "261cd66e",
   "metadata": {},
   "outputs": [],
   "source": [
    "first_tag = soup.find(\"h1\")\n",
    "#first_tag_content = first_tag.text"
   ]
  },
  {
   "cell_type": "code",
   "execution_count": 35,
   "id": "fe74de2a",
   "metadata": {},
   "outputs": [
    {
     "name": "stdout",
     "output_type": "stream",
     "text": [
      "List of dates predicted for apocalyptic events\n"
     ]
    }
   ],
   "source": [
    "print(first_tag.text)"
   ]
  },
  {
   "cell_type": "code",
   "execution_count": 39,
   "id": "7250b087",
   "metadata": {},
   "outputs": [],
   "source": [
    "hyperlinks=  soup.find_all('a')"
   ]
  },
  {
   "cell_type": "code",
   "execution_count": 40,
   "id": "a0017365",
   "metadata": {},
   "outputs": [
    {
     "data": {
      "text/plain": [
       "1842"
      ]
     },
     "execution_count": 40,
     "metadata": {},
     "output_type": "execute_result"
    }
   ],
   "source": [
    "len(hyperlinks)"
   ]
  },
  {
   "cell_type": "code",
   "execution_count": 46,
   "id": "4ed52a60",
   "metadata": {
    "scrolled": true
   },
   "outputs": [
    {
     "ename": "IndentationError",
     "evalue": "expected an indented block after 'for' statement on line 20 (1094569950.py, line 23)",
     "output_type": "error",
     "traceback": [
      "\u001b[0;36m  Cell \u001b[0;32mIn[46], line 23\u001b[0;36m\u001b[0m\n\u001b[0;31m    article_urls = [\u001b[0m\n\u001b[0m    ^\u001b[0m\n\u001b[0;31mIndentationError\u001b[0m\u001b[0;31m:\u001b[0m expected an indented block after 'for' statement on line 20\n"
     ]
    }
   ],
   "source": [
    "nouns = [\n",
    "    \"Dog\", \"Cat\", \"House\", \"Car\", \"Tree\", \"Flower\", \"Bird\", \"Sun\", \"Moon\", \"River\",\n",
    "    \"Ocean\", \"Mountain\", \"Book\", \"Pen\", \"Table\", \"Chair\", \"Door\", \"Window\", \"Computer\", \"Phone\",\n",
    "    \"Television\", \"Bicycle\", \"Ball\", \"Cup\", \"Plate\", \"Spoon\", \"Fork\", \"Knife\", \"Hat\", \"Shirt\",\n",
    "    \"Pants\", \"Shoes\", \"Socks\", \"Hat\", \"Bag\", \"Wallet\", \"Watch\", \"Clock\", \"Necklace\", \"Ring\",\n",
    "    \"Hat\", \"Glasses\", \"Beach\", \"Desert\", \"Forest\", \"Lake\", \"Park\", \"Zoo\", \"Museum\", \"Library\",\n",
    "    \"School\", \"Hospital\", \"Police\", \"Fire\", \"Doctor\", \"Nurse\", \"Teacher\", \"Student\", \"Parent\",\n",
    "    \"Child\", \"Friend\", \"Family\", \"Food\", \"Water\", \"Milk\", \"Coffee\", \"Tea\", \"Juice\", \"Bread\",\n",
    "    \"Rice\", \"Meat\", \"Fish\", \"Chicken\", \"Vegetable\", \"Fruit\", \"Apple\", \"Banana\", \"Orange\", \"Tomato\",\n",
    "    \"Potato\", \"Cheese\", \"Egg\", \"Sugar\", \"Salt\", \"Pepper\", \"Music\", \"Movie\", \"Art\", \"Dance\", \"Song\",\n",
    "    \"Game\", \"Puzzle\", \"Toy\", \"Beach\", \"Vacation\", \"Trip\", \"Party\", \"Wedding\", \"Birthday\", \"Holiday\"\n",
    "]\n",
    "\n",
    "\n",
    "base_url = \"https://en.wikipedia.org/wiki/\"\n",
    "\n",
    "\n",
    "wiki_urls = [base_url + noun for noun in nouns]\n",
    "\n",
    "for url in wiki_urls:\n",
    "   \n",
    "\n"
   ]
  },
  {
   "cell_type": "code",
   "execution_count": 50,
   "id": "1b5add7a",
   "metadata": {},
   "outputs": [],
   "source": [
    "article_urls = [\n",
    "'https://en.wikipedia.org/wiki/Dog',\n",
    "'https://en.wikipedia.org/wiki/Cat',\n",
    "'https://en.wikipedia.org/wiki/House',\n",
    "'https://en.wikipedia.org/wiki/Car',\n",
    "'https://en.wikipedia.org/wiki/Tree',\n",
    "'https://en.wikipedia.org/wiki/Flower',\n",
    "'https://en.wikipedia.org/wiki/Bird',\n",
    "'https://en.wikipedia.org/wiki/Sun',\n",
    "'https://en.wikipedia.org/wiki/Moon',\n",
    "'https://en.wikipedia.org/wiki/River',\n",
    "'https://en.wikipedia.org/wiki/Ocean',\n",
    "'https://en.wikipedia.org/wiki/Mountain',\n",
    "'https://en.wikipedia.org/wiki/Book',\n",
    "'https://en.wikipedia.org/wiki/Pen',\n",
    "'https://en.wikipedia.org/wiki/Table',\n",
    "'https://en.wikipedia.org/wiki/Chair',\n",
    "'https://en.wikipedia.org/wiki/Door',\n",
    "'https://en.wikipedia.org/wiki/Window',\n",
    "'https://en.wikipedia.org/wiki/Computer',\n",
    "'https://en.wikipedia.org/wiki/Phone',\n",
    "'https://en.wikipedia.org/wiki/Television',\n",
    "'https://en.wikipedia.org/wiki/Bicycle',\n",
    "'https://en.wikipedia.org/wiki/Ball',\n",
    "'https://en.wikipedia.org/wiki/Cup',\n",
    "'https://en.wikipedia.org/wiki/Plate',\n",
    "'https://en.wikipedia.org/wiki/Spoon',\n",
    "'https://en.wikipedia.org/wiki/Fork',\n",
    "'https://en.wikipedia.org/wiki/Knife',\n",
    "'https://en.wikipedia.org/wiki/Hat',\n",
    "'https://en.wikipedia.org/wiki/Shirt',\n",
    "'https://en.wikipedia.org/wiki/Pants',\n",
    "'https://en.wikipedia.org/wiki/Shoes',\n",
    "'https://en.wikipedia.org/wiki/Socks',\n",
    "'https://en.wikipedia.org/wiki/Hat',\n",
    "'https://en.wikipedia.org/wiki/Bag',\n",
    "'https://en.wikipedia.org/wiki/Wallet',\n",
    "'https://en.wikipedia.org/wiki/Watch',\n",
    "'https://en.wikipedia.org/wiki/Clock',\n",
    "'https://en.wikipedia.org/wiki/Necklace',\n",
    "'https://en.wikipedia.org/wiki/Ring',\n",
    "'https://en.wikipedia.org/wiki/Hat',\n",
    "'https://en.wikipedia.org/wiki/Glasses',\n",
    "'https://en.wikipedia.org/wiki/Beach',\n",
    "'https://en.wikipedia.org/wiki/Desert',\n",
    "'https://en.wikipedia.org/wiki/Forest',\n",
    "'https://en.wikipedia.org/wiki/Lake',\n",
    "'https://en.wikipedia.org/wiki/Park',\n",
    "'https://en.wikipedia.org/wiki/Zoo',\n",
    "'https://en.wikipedia.org/wiki/Museum',\n",
    "'https://en.wikipedia.org/wiki/Library',\n",
    "'https://en.wikipedia.org/wiki/School',\n",
    "'https://en.wikipedia.org/wiki/Hospital',\n",
    "'https://en.wikipedia.org/wiki/Police',\n",
    "'https://en.wikipedia.org/wiki/Fire',\n",
    "'https://en.wikipedia.org/wiki/Doctor',\n",
    "'https://en.wikipedia.org/wiki/Nurse',\n",
    "'https://en.wikipedia.org/wiki/Teacher',\n",
    "'https://en.wikipedia.org/wiki/Student',\n",
    "'https://en.wikipedia.org/wiki/Parent',\n",
    "'https://en.wikipedia.org/wiki/Child',\n",
    "'https://en.wikipedia.org/wiki/Friend',\n",
    "'https://en.wikipedia.org/wiki/Family',\n",
    "'https://en.wikipedia.org/wiki/Food',\n",
    "'https://en.wikipedia.org/wiki/Water',\n",
    "'https://en.wikipedia.org/wiki/Milk',\n",
    "'https://en.wikipedia.org/wiki/Coffee',\n",
    "'https://en.wikipedia.org/wiki/Tea',\n",
    "'https://en.wikipedia.org/wiki/Juice',\n",
    "'https://en.wikipedia.org/wiki/Bread',\n",
    "'https://en.wikipedia.org/wiki/Rice',\n",
    "'https://en.wikipedia.org/wiki/Meat',\n",
    "'https://en.wikipedia.org/wiki/Fish',\n",
    "'https://en.wikipedia.org/wiki/Chicken',\n",
    "'https://en.wikipedia.org/wiki/Vegetable',\n",
    "'https://en.wikipedia.org/wiki/Fruit',\n",
    "'https://en.wikipedia.org/wiki/Apple',\n",
    "'https://en.wikipedia.org/wiki/Banana',\n",
    "'https://en.wikipedia.org/wiki/Orange',\n",
    "'https://en.wikipedia.org/wiki/Tomato',\n",
    "'https://en.wikipedia.org/wiki/Potato',\n",
    "'https://en.wikipedia.org/wiki/Cheese',\n",
    "'https://en.wikipedia.org/wiki/Egg',\n",
    "'https://en.wikipedia.org/wiki/Sugar',\n",
    "'https://en.wikipedia.org/wiki/Salt',\n",
    "'https://en.wikipedia.org/wiki/Pepper',\n",
    "'https://en.wikipedia.org/wiki/Music',\n",
    "'https://en.wikipedia.org/wiki/Movie',\n",
    "'https://en.wikipedia.org/wiki/Art',\n",
    "'https://en.wikipedia.org/wiki/Dance',\n",
    "'https://en.wikipedia.org/wiki/Song',\n",
    "'https://en.wikipedia.org/wiki/Game',\n",
    "'https://en.wikipedia.org/wiki/Puzzle',\n",
    "'https://en.wikipedia.org/wiki/Toy',\n",
    "'https://en.wikipedia.org/wiki/Beach',\n",
    "'https://en.wikipedia.org/wiki/Vacation',\n",
    "'https://en.wikipedia.org/wiki/Trip',\n",
    "'https://en.wikipedia.org/wiki/Party',\n",
    "'https://en.wikipedia.org/wiki/Wedding',\n",
    "'https://en.wikipedia.org/wiki/Birthday',\n",
    "'https://en.wikipedia.org/wiki/Holiday',\n",
    "    \n",
    "]"
   ]
  },
  {
   "cell_type": "code",
   "execution_count": 51,
   "id": "3685ca8a",
   "metadata": {},
   "outputs": [],
   "source": [
    "total_word_count = 0\n",
    "num_articles = len(article_urls)"
   ]
  },
  {
   "cell_type": "code",
   "execution_count": 53,
   "id": "b1c37dfe",
   "metadata": {},
   "outputs": [
    {
     "ename": "AttributeError",
     "evalue": "'NoneType' object has no attribute 'get_text'",
     "output_type": "error",
     "traceback": [
      "\u001b[0;31m---------------------------------------------------------------------------\u001b[0m",
      "\u001b[0;31mAttributeError\u001b[0m                            Traceback (most recent call last)",
      "Cell \u001b[0;32mIn[53], line 6\u001b[0m\n\u001b[1;32m      4\u001b[0m soup \u001b[38;5;241m=\u001b[39m BeautifulSoup(response\u001b[38;5;241m.\u001b[39mtext, \u001b[38;5;124m'\u001b[39m\u001b[38;5;124mhtml.parser\u001b[39m\u001b[38;5;124m'\u001b[39m)\n\u001b[1;32m      5\u001b[0m article_content \u001b[38;5;241m=\u001b[39m soup\u001b[38;5;241m.\u001b[39mfind(\u001b[38;5;124m\"\u001b[39m\u001b[38;5;124mdiv\u001b[39m\u001b[38;5;124m\"\u001b[39m, {\u001b[38;5;124m\"\u001b[39m\u001b[38;5;124mid\u001b[39m\u001b[38;5;124m\"\u001b[39m: \u001b[38;5;124m\"\u001b[39m\u001b[38;5;124mcontent\u001b[39m\u001b[38;5;124m\"\u001b[39m})\n\u001b[0;32m----> 6\u001b[0m text \u001b[38;5;241m=\u001b[39m article_content\u001b[38;5;241m.\u001b[39mget_text() \n\u001b[1;32m      7\u001b[0m words \u001b[38;5;241m=\u001b[39m text\u001b[38;5;241m.\u001b[39msplit()\n\u001b[1;32m      8\u001b[0m word_count \u001b[38;5;241m=\u001b[39m \u001b[38;5;28mlen\u001b[39m(words) \n",
      "\u001b[0;31mAttributeError\u001b[0m: 'NoneType' object has no attribute 'get_text'"
     ]
    }
   ],
   "source": [
    "for url in article_urls:\n",
    "    response = requests.get(url)\n",
    "    if response.status_code == 200:\n",
    "        soup = BeautifulSoup(response.text, 'html.parser')\n",
    "        article_content = soup.find(\"div\", {\"id\": \"content\"})\n",
    "        text = article_content.get_text() \n",
    "        words = text.split()\n",
    "        word_count = len(words) \n",
    "        total_word_count += word_count\n",
    "average_word_count = total_word_count / num_article"
   ]
  },
  {
   "cell_type": "code",
   "execution_count": null,
   "id": "cad15b7d",
   "metadata": {},
   "outputs": [],
   "source": []
  }
 ],
 "metadata": {
  "kernelspec": {
   "display_name": "Python 3 (ipykernel)",
   "language": "python",
   "name": "python3"
  },
  "language_info": {
   "codemirror_mode": {
    "name": "ipython",
    "version": 3
   },
   "file_extension": ".py",
   "mimetype": "text/x-python",
   "name": "python",
   "nbconvert_exporter": "python",
   "pygments_lexer": "ipython3",
   "version": "3.11.4"
  }
 },
 "nbformat": 4,
 "nbformat_minor": 5
}
