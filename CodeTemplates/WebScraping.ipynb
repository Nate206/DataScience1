{
 "cells": [
  {
   "cell_type": "code",
   "execution_count": 66,
   "id": "c2b45880",
   "metadata": {},
   "outputs": [],
   "source": [
    "import requests\n",
    "from bs4 import BeautifulSoup\n",
    "import matplotlib.pyplot as plt"
   ]
  },
  {
   "cell_type": "code",
   "execution_count": 4,
   "id": "17474b33",
   "metadata": {},
   "outputs": [],
   "source": [
    "url = \"https://en.wikipedia.org/wiki/List_of_dates_predicted_for_apocalyptic_events\""
   ]
  },
  {
   "cell_type": "code",
   "execution_count": 5,
   "id": "54cee01b",
   "metadata": {},
   "outputs": [],
   "source": [
    "response = requests.get(url)\n",
    "soup  = BeautifulSoup(response.text,'html.parser')"
   ]
  },
  {
   "cell_type": "code",
   "execution_count": 6,
   "id": "261cd66e",
   "metadata": {},
   "outputs": [],
   "source": [
    "first_tag = soup.find(\"h1\")\n",
    "#first_tag_content = first_tag.text"
   ]
  },
  {
   "cell_type": "code",
   "execution_count": 35,
   "id": "fe74de2a",
   "metadata": {},
   "outputs": [
    {
     "name": "stdout",
     "output_type": "stream",
     "text": [
      "List of dates predicted for apocalyptic events\n"
     ]
    }
   ],
   "source": [
    "print(first_tag.text)"
   ]
  },
  {
   "cell_type": "code",
   "execution_count": 39,
   "id": "7250b087",
   "metadata": {},
   "outputs": [],
   "source": [
    "hyperlinks=  soup.find_all('a')"
   ]
  },
  {
   "cell_type": "code",
   "execution_count": 40,
   "id": "a0017365",
   "metadata": {},
   "outputs": [
    {
     "data": {
      "text/plain": [
       "1842"
      ]
     },
     "execution_count": 40,
     "metadata": {},
     "output_type": "execute_result"
    }
   ],
   "source": [
    "len(hyperlinks)"
   ]
  },
  {
   "cell_type": "code",
   "execution_count": 61,
   "id": "4ed52a60",
   "metadata": {
    "scrolled": true
   },
   "outputs": [
    {
     "name": "stdout",
     "output_type": "stream",
     "text": [
      "\"https://en.wikipedia.org/wiki/Dog\", \"https://en.wikipedia.org/wiki/Cat\", \"https://en.wikipedia.org/wiki/House\", \"https://en.wikipedia.org/wiki/Car\", \"https://en.wikipedia.org/wiki/Tree\", \"https://en.wikipedia.org/wiki/Flower\", \"https://en.wikipedia.org/wiki/Bird\", \"https://en.wikipedia.org/wiki/Sun\", \"https://en.wikipedia.org/wiki/Moon\", \"https://en.wikipedia.org/wiki/River\", \"https://en.wikipedia.org/wiki/Ocean\", \"https://en.wikipedia.org/wiki/Mountain\", \"https://en.wikipedia.org/wiki/Book\", \"https://en.wikipedia.org/wiki/Pen\", \"https://en.wikipedia.org/wiki/Table\", \"https://en.wikipedia.org/wiki/Chair\", \"https://en.wikipedia.org/wiki/Door\", \"https://en.wikipedia.org/wiki/Window\", \"https://en.wikipedia.org/wiki/Computer\", \"https://en.wikipedia.org/wiki/Phone\", \"https://en.wikipedia.org/wiki/Television\", \"https://en.wikipedia.org/wiki/Bicycle\", \"https://en.wikipedia.org/wiki/Ball\", \"https://en.wikipedia.org/wiki/Cup\", \"https://en.wikipedia.org/wiki/Plate\", \"https://en.wikipedia.org/wiki/Spoon\", \"https://en.wikipedia.org/wiki/Fork\", \"https://en.wikipedia.org/wiki/Knife\", \"https://en.wikipedia.org/wiki/Hat\", \"https://en.wikipedia.org/wiki/Shirt\", \"https://en.wikipedia.org/wiki/Pants\", \"https://en.wikipedia.org/wiki/Shoes\", \"https://en.wikipedia.org/wiki/Socks\", \"https://en.wikipedia.org/wiki/Hat\", \"https://en.wikipedia.org/wiki/Bag\", \"https://en.wikipedia.org/wiki/Wallet\", \"https://en.wikipedia.org/wiki/Watch\", \"https://en.wikipedia.org/wiki/Clock\", \"https://en.wikipedia.org/wiki/Necklace\", \"https://en.wikipedia.org/wiki/Ring\", \"https://en.wikipedia.org/wiki/Hat\", \"https://en.wikipedia.org/wiki/Glasses\", \"https://en.wikipedia.org/wiki/Beach\", \"https://en.wikipedia.org/wiki/Desert\", \"https://en.wikipedia.org/wiki/Forest\", \"https://en.wikipedia.org/wiki/Lake\", \"https://en.wikipedia.org/wiki/Park\", \"https://en.wikipedia.org/wiki/Zoo\", \"https://en.wikipedia.org/wiki/Museum\", \"https://en.wikipedia.org/wiki/Library\", \"https://en.wikipedia.org/wiki/School\", \"https://en.wikipedia.org/wiki/Hospital\", \"https://en.wikipedia.org/wiki/Police\", \"https://en.wikipedia.org/wiki/Fire\", \"https://en.wikipedia.org/wiki/Doctor\", \"https://en.wikipedia.org/wiki/Nurse\", \"https://en.wikipedia.org/wiki/Teacher\", \"https://en.wikipedia.org/wiki/Student\", \"https://en.wikipedia.org/wiki/Parent\", \"https://en.wikipedia.org/wiki/Child\", \"https://en.wikipedia.org/wiki/Friend\", \"https://en.wikipedia.org/wiki/Family\", \"https://en.wikipedia.org/wiki/Food\", \"https://en.wikipedia.org/wiki/Water\", \"https://en.wikipedia.org/wiki/Milk\", \"https://en.wikipedia.org/wiki/Coffee\", \"https://en.wikipedia.org/wiki/Tea\", \"https://en.wikipedia.org/wiki/Juice\", \"https://en.wikipedia.org/wiki/Bread\", \"https://en.wikipedia.org/wiki/Rice\", \"https://en.wikipedia.org/wiki/Meat\", \"https://en.wikipedia.org/wiki/Fish\", \"https://en.wikipedia.org/wiki/Chicken\", \"https://en.wikipedia.org/wiki/Vegetable\", \"https://en.wikipedia.org/wiki/Fruit\", \"https://en.wikipedia.org/wiki/Apple\", \"https://en.wikipedia.org/wiki/Banana\", \"https://en.wikipedia.org/wiki/Orange\", \"https://en.wikipedia.org/wiki/Tomato\", \"https://en.wikipedia.org/wiki/Potato\", \"https://en.wikipedia.org/wiki/Cheese\", \"https://en.wikipedia.org/wiki/Egg\", \"https://en.wikipedia.org/wiki/Sugar\", \"https://en.wikipedia.org/wiki/Salt\", \"https://en.wikipedia.org/wiki/Pepper\", \"https://en.wikipedia.org/wiki/Music\", \"https://en.wikipedia.org/wiki/Movie\", \"https://en.wikipedia.org/wiki/Art\", \"https://en.wikipedia.org/wiki/Dance\", \"https://en.wikipedia.org/wiki/Song\", \"https://en.wikipedia.org/wiki/Game\", \"https://en.wikipedia.org/wiki/Puzzle\", \"https://en.wikipedia.org/wiki/Toy\", \"https://en.wikipedia.org/wiki/Beach\", \"https://en.wikipedia.org/wiki/Vacation\", \"https://en.wikipedia.org/wiki/Trip\", \"https://en.wikipedia.org/wiki/Party\", \"https://en.wikipedia.org/wiki/Wedding\", \"https://en.wikipedia.org/wiki/Birthday\", \"https://en.wikipedia.org/wiki/Holiday\", \"https://en.wikipedia.org/wiki/Elephant\", \"https://en.wikipedia.org/wiki/Giraffe\", \"https://en.wikipedia.org/wiki/Lion\", \"https://en.wikipedia.org/wiki/Tiger\", \"https://en.wikipedia.org/wiki/Bear\", \"https://en.wikipedia.org/wiki/Fox\", \"https://en.wikipedia.org/wiki/Kangaroo\", \"https://en.wikipedia.org/wiki/Koala\", \"https://en.wikipedia.org/wiki/Panda\", \"https://en.wikipedia.org/wiki/Zebra\", \"https://en.wikipedia.org/wiki/Butterfly\", \"https://en.wikipedia.org/wiki/Dragonfly\", \"https://en.wikipedia.org/wiki/Ladybug\", \"https://en.wikipedia.org/wiki/Bee\", \"https://en.wikipedia.org/wiki/Ant\", \"https://en.wikipedia.org/wiki/Spider\", \"https://en.wikipedia.org/wiki/Snake\", \"https://en.wikipedia.org/wiki/Lizard\", \"https://en.wikipedia.org/wiki/Crocodile\", \"https://en.wikipedia.org/wiki/Octopus\", \"https://en.wikipedia.org/wiki/Dolphin\", \"https://en.wikipedia.org/wiki/Starfish\", \"https://en.wikipedia.org/wiki/Seashell\", \"https://en.wikipedia.org/wiki/Coral\", \"https://en.wikipedia.org/wiki/Volcano\", \"https://en.wikipedia.org/wiki/Desert\", \"https://en.wikipedia.org/wiki/Glacier\", \"https://en.wikipedia.org/wiki/Canyon\", \"https://en.wikipedia.org/wiki/Waterfall\", \"https://en.wikipedia.org/wiki/River\", \"https://en.wikipedia.org/wiki/Lake\", \"https://en.wikipedia.org/wiki/Pond\", \"https://en.wikipedia.org/wiki/Island\", \"https://en.wikipedia.org/wiki/Mountain\", \"https://en.wikipedia.org/wiki/Valley\", \"https://en.wikipedia.org/wiki/Forest\", \"https://en.wikipedia.org/wiki/Jungle\", \"https://en.wikipedia.org/wiki/Prairie\", \"https://en.wikipedia.org/wiki/Meadow\", \"https://en.wikipedia.org/wiki/Canyon\", \"https://en.wikipedia.org/wiki/Swamp\", \"https://en.wikipedia.org/wiki/Ocean\", \"https://en.wikipedia.org/wiki/Beach\", \"https://en.wikipedia.org/wiki/Sunrise\", \"https://en.wikipedia.org/wiki/Sunset\", \"https://en.wikipedia.org/wiki/Rainbow\", \"https://en.wikipedia.org/wiki/Cloud\", \"https://en.wikipedia.org/wiki/Storm\", \"https://en.wikipedia.org/wiki/Lightning\", \"https://en.wikipedia.org/wiki/Thunder\", \"https://en.wikipedia.org/wiki/Snow\", \"https://en.wikipedia.org/wiki/Rain\", \"https://en.wikipedia.org/wiki/Wind\", \"https://en.wikipedia.org/wiki/Fog\", \"https://en.wikipedia.org/wiki/Mist\", \"https://en.wikipedia.org/wiki/Horizon\", \"https://en.wikipedia.org/wiki/Galaxy\", \"https://en.wikipedia.org/wiki/Star\", \"https://en.wikipedia.org/wiki/Comet\", \"https://en.wikipedia.org/wiki/Telescope\", \"https://en.wikipedia.org/wiki/Astronaut\", \"https://en.wikipedia.org/wiki/Spaceship\", \"https://en.wikipedia.org/wiki/Satellite\", \"https://en.wikipedia.org/wiki/UFO\", \"https://en.wikipedia.org/wiki/Planet\", \"https://en.wikipedia.org/wiki/Moon\", \"https://en.wikipedia.org/wiki/Mars\", \"https://en.wikipedia.org/wiki/Earth\", \"https://en.wikipedia.org/wiki/Sun\", \"https://en.wikipedia.org/wiki/Star\", \"https://en.wikipedia.org/wiki/Universe\", \"https://en.wikipedia.org/wiki/Solar System\", \"https://en.wikipedia.org/wiki/Atmosphere\", \"https://en.wikipedia.org/wiki/Gravity\", \"https://en.wikipedia.org/wiki/Meteor\", \"https://en.wikipedia.org/wiki/Crater\", \"https://en.wikipedia.org/wiki/Observatory\", \"https://en.wikipedia.org/wiki/Aurora\", \"https://en.wikipedia.org/wiki/Nebula\", \"https://en.wikipedia.org/wiki/Black Hole\", \"https://en.wikipedia.org/wiki/Quasar\", \"https://en.wikipedia.org/wiki/Supernova\", \"https://en.wikipedia.org/wiki/Asteroid\", \"https://en.wikipedia.org/wiki/Galaxy\", \"https://en.wikipedia.org/wiki/Constellation\", \"https://en.wikipedia.org/wiki/Spacesuit\", \"https://en.wikipedia.org/wiki/Alien\", \"https://en.wikipedia.org/wiki/Abduction\", \"https://en.wikipedia.org/wiki/Crop_Circle\", \"https://en.wikipedia.org/wiki/Pyramid\", \"https://en.wikipedia.org/wiki/Sphinx\", \"https://en.wikipedia.org/wiki/Tomb\", \"https://en.wikipedia.org/wiki/Temple\", \"https://en.wikipedia.org/wiki/Castle\", \"https://en.wikipedia.org/wiki/Fortress\", \"https://en.wikipedia.org/wiki/Ruin\", \"https://en.wikipedia.org/wiki/Monument\", \"https://en.wikipedia.org/wiki/Statue\", \"https://en.wikipedia.org/wiki/Bridge\", \"https://en.wikipedia.org/wiki/Arch\", \"https://en.wikipedia.org/wiki/Gate\", \"https://en.wikipedia.org/wiki/Wall\", \"https://en.wikipedia.org/wiki/Tower\", \"https://en.wikipedia.org/wiki/Palace\", \"https://en.wikipedia.org/wiki/Cathedral\", \"https://en.wikipedia.org/wiki/Basilica\", \"https://en.wikipedia.org/wiki/Church\", \"https://en.wikipedia.org/wiki/Mosque\", \"https://en.wikipedia.org/wiki/Synagogue\"\n"
     ]
    }
   ],
   "source": [
    "nouns = [\n",
    "    \"Dog\", \"Cat\", \"House\", \"Car\", \"Tree\", \"Flower\", \"Bird\", \"Sun\", \"Moon\", \"River\",\n",
    "    \"Ocean\", \"Mountain\", \"Book\", \"Pen\", \"Table\", \"Chair\", \"Door\", \"Window\", \"Computer\", \"Phone\",\n",
    "    \"Television\", \"Bicycle\", \"Ball\", \"Cup\", \"Plate\", \"Spoon\", \"Fork\", \"Knife\", \"Hat\", \"Shirt\",\n",
    "    \"Pants\", \"Shoes\", \"Socks\", \"Hat\", \"Bag\", \"Wallet\", \"Watch\", \"Clock\", \"Necklace\", \"Ring\",\n",
    "    \"Hat\", \"Glasses\", \"Beach\", \"Desert\", \"Forest\", \"Lake\", \"Park\", \"Zoo\", \"Museum\", \"Library\",\n",
    "    \"School\", \"Hospital\", \"Police\", \"Fire\", \"Doctor\", \"Nurse\", \"Teacher\", \"Student\", \"Parent\",\n",
    "    \"Child\", \"Friend\", \"Family\", \"Food\", \"Water\", \"Milk\", \"Coffee\", \"Tea\", \"Juice\", \"Bread\",\n",
    "    \"Rice\", \"Meat\", \"Fish\", \"Chicken\", \"Vegetable\", \"Fruit\", \"Apple\", \"Banana\", \"Orange\", \"Tomato\",\n",
    "    \"Potato\", \"Cheese\", \"Egg\", \"Sugar\", \"Salt\", \"Pepper\", \"Music\", \"Movie\", \"Art\", \"Dance\", \"Song\",\n",
    "    \"Game\", \"Puzzle\", \"Toy\", \"Beach\", \"Vacation\", \"Trip\", \"Party\", \"Wedding\", \"Birthday\", \"Holiday\",\"Elephant\", \"Giraffe\", \"Lion\", \"Tiger\", \"Bear\", \"Fox\", \"Kangaroo\", \"Koala\", \"Panda\", \"Zebra\", \"Butterfly\",\n",
    "    \"Dragonfly\", \"Ladybug\", \"Bee\", \"Ant\", \"Spider\", \"Snake\", \"Lizard\", \"Crocodile\", \"Octopus\", \"Dolphin\",\n",
    "    \"Starfish\", \"Seashell\", \"Coral\", \"Volcano\", \"Desert\", \"Glacier\", \"Canyon\", \"Waterfall\", \"River\", \"Lake\",\n",
    "    \"Pond\", \"Island\", \"Mountain\", \"Valley\", \"Forest\", \"Jungle\", \"Prairie\", \"Meadow\", \"Canyon\", \"Swamp\", \"Ocean\",\n",
    "    \"Beach\", \"Sunrise\", \"Sunset\", \"Rainbow\", \"Cloud\", \"Storm\", \"Lightning\", \"Thunder\", \"Snow\", \"Rain\", \"Wind\",\n",
    "    \"Fog\", \"Mist\", \"Horizon\", \"Galaxy\", \"Star\", \"Comet\", \"Telescope\", \"Astronaut\", \"Spaceship\", \"Satellite\", \"UFO\",\n",
    "    \"Planet\", \"Moon\", \"Mars\", \"Earth\", \"Sun\", \"Star\", \"Universe\", \"Solar System\", \"Atmosphere\", \"Gravity\", \"Meteor\",\n",
    "    \"Crater\", \"Observatory\", \"Aurora\", \"Nebula\", \"Black Hole\", \"Quasar\", \"Supernova\", \"Asteroid\", \"Galaxy\",\n",
    "    \"Constellation\", \"Spacesuit\", \"Alien\", \"Abduction\", \"Crop_Circle\", \"Pyramid\", \"Sphinx\", \"Tomb\", \"Temple\",\n",
    "    \"Castle\", \"Fortress\", \"Ruin\", \"Monument\", \"Statue\", \"Bridge\", \"Arch\", \"Gate\", \"Wall\", \"Tower\", \"Palace\",\n",
    "    \"Cathedral\", \"Basilica\", \"Church\", \"Mosque\", \"Synagogue\",\n",
    "]\n",
    "\n",
    "   \n",
    "base_url = \"https://en.wikipedia.org/wiki/\"\n",
    "\n",
    "# Create a list of Wikipedia article URLs in the desired format\n",
    "wiki_urls = [base_url + noun for noun in nouns]\n",
    "\n",
    "# Print the list of URLs\n",
    "\n",
    "formatted_urls = ', '.join([f'\"{url}\"' for url in wiki_urls])\n",
    "\n",
    "# Print the formatted string\n",
    "print(formatted_urls)"
   ]
  },
  {
   "cell_type": "code",
   "execution_count": 62,
   "id": "1b5add7a",
   "metadata": {},
   "outputs": [],
   "source": [
    "article_urls = [\n",
    "\"https://en.wikipedia.org/wiki/Dog\", \"https://en.wikipedia.org/wiki/Cat\", \"https://en.wikipedia.org/wiki/House\", \"https://en.wikipedia.org/wiki/Car\", \"https://en.wikipedia.org/wiki/Tree\", \"https://en.wikipedia.org/wiki/Flower\", \"https://en.wikipedia.org/wiki/Bird\", \"https://en.wikipedia.org/wiki/Sun\", \"https://en.wikipedia.org/wiki/Moon\", \"https://en.wikipedia.org/wiki/River\", \"https://en.wikipedia.org/wiki/Ocean\", \"https://en.wikipedia.org/wiki/Mountain\", \"https://en.wikipedia.org/wiki/Book\", \"https://en.wikipedia.org/wiki/Pen\", \"https://en.wikipedia.org/wiki/Table\", \"https://en.wikipedia.org/wiki/Chair\", \"https://en.wikipedia.org/wiki/Door\", \"https://en.wikipedia.org/wiki/Window\", \"https://en.wikipedia.org/wiki/Computer\", \"https://en.wikipedia.org/wiki/Phone\", \"https://en.wikipedia.org/wiki/Television\", \"https://en.wikipedia.org/wiki/Bicycle\", \"https://en.wikipedia.org/wiki/Ball\", \"https://en.wikipedia.org/wiki/Cup\", \"https://en.wikipedia.org/wiki/Plate\", \"https://en.wikipedia.org/wiki/Spoon\", \"https://en.wikipedia.org/wiki/Fork\", \"https://en.wikipedia.org/wiki/Knife\", \"https://en.wikipedia.org/wiki/Hat\", \"https://en.wikipedia.org/wiki/Shirt\", \"https://en.wikipedia.org/wiki/Pants\", \"https://en.wikipedia.org/wiki/Shoes\", \"https://en.wikipedia.org/wiki/Socks\", \"https://en.wikipedia.org/wiki/Hat\", \"https://en.wikipedia.org/wiki/Bag\", \"https://en.wikipedia.org/wiki/Wallet\", \"https://en.wikipedia.org/wiki/Watch\", \"https://en.wikipedia.org/wiki/Clock\", \"https://en.wikipedia.org/wiki/Necklace\", \"https://en.wikipedia.org/wiki/Ring\", \"https://en.wikipedia.org/wiki/Hat\", \"https://en.wikipedia.org/wiki/Glasses\", \"https://en.wikipedia.org/wiki/Beach\", \"https://en.wikipedia.org/wiki/Desert\", \"https://en.wikipedia.org/wiki/Forest\", \"https://en.wikipedia.org/wiki/Lake\", \"https://en.wikipedia.org/wiki/Park\", \"https://en.wikipedia.org/wiki/Zoo\", \"https://en.wikipedia.org/wiki/Museum\", \"https://en.wikipedia.org/wiki/Library\", \"https://en.wikipedia.org/wiki/School\", \"https://en.wikipedia.org/wiki/Hospital\", \"https://en.wikipedia.org/wiki/Police\", \"https://en.wikipedia.org/wiki/Fire\", \"https://en.wikipedia.org/wiki/Doctor\", \"https://en.wikipedia.org/wiki/Nurse\", \"https://en.wikipedia.org/wiki/Teacher\", \"https://en.wikipedia.org/wiki/Student\", \"https://en.wikipedia.org/wiki/Parent\", \"https://en.wikipedia.org/wiki/Child\", \"https://en.wikipedia.org/wiki/Friend\", \"https://en.wikipedia.org/wiki/Family\", \"https://en.wikipedia.org/wiki/Food\", \"https://en.wikipedia.org/wiki/Water\", \"https://en.wikipedia.org/wiki/Milk\", \"https://en.wikipedia.org/wiki/Coffee\", \"https://en.wikipedia.org/wiki/Tea\", \"https://en.wikipedia.org/wiki/Juice\", \"https://en.wikipedia.org/wiki/Bread\", \"https://en.wikipedia.org/wiki/Rice\", \"https://en.wikipedia.org/wiki/Meat\", \"https://en.wikipedia.org/wiki/Fish\", \"https://en.wikipedia.org/wiki/Chicken\", \"https://en.wikipedia.org/wiki/Vegetable\", \"https://en.wikipedia.org/wiki/Fruit\", \"https://en.wikipedia.org/wiki/Apple\", \"https://en.wikipedia.org/wiki/Banana\", \"https://en.wikipedia.org/wiki/Orange\", \"https://en.wikipedia.org/wiki/Tomato\", \"https://en.wikipedia.org/wiki/Potato\", \"https://en.wikipedia.org/wiki/Cheese\", \"https://en.wikipedia.org/wiki/Egg\", \"https://en.wikipedia.org/wiki/Sugar\", \"https://en.wikipedia.org/wiki/Salt\", \"https://en.wikipedia.org/wiki/Pepper\", \"https://en.wikipedia.org/wiki/Music\", \"https://en.wikipedia.org/wiki/Movie\", \"https://en.wikipedia.org/wiki/Art\", \"https://en.wikipedia.org/wiki/Dance\", \"https://en.wikipedia.org/wiki/Song\", \"https://en.wikipedia.org/wiki/Game\", \"https://en.wikipedia.org/wiki/Puzzle\", \"https://en.wikipedia.org/wiki/Toy\", \"https://en.wikipedia.org/wiki/Beach\", \"https://en.wikipedia.org/wiki/Vacation\", \"https://en.wikipedia.org/wiki/Trip\", \"https://en.wikipedia.org/wiki/Party\", \"https://en.wikipedia.org/wiki/Wedding\", \"https://en.wikipedia.org/wiki/Birthday\", \"https://en.wikipedia.org/wiki/Holiday\", \"https://en.wikipedia.org/wiki/Elephant\", \"https://en.wikipedia.org/wiki/Giraffe\", \"https://en.wikipedia.org/wiki/Lion\", \"https://en.wikipedia.org/wiki/Tiger\", \"https://en.wikipedia.org/wiki/Bear\", \"https://en.wikipedia.org/wiki/Fox\", \"https://en.wikipedia.org/wiki/Kangaroo\", \"https://en.wikipedia.org/wiki/Koala\", \"https://en.wikipedia.org/wiki/Panda\", \"https://en.wikipedia.org/wiki/Zebra\", \"https://en.wikipedia.org/wiki/Butterfly\", \"https://en.wikipedia.org/wiki/Dragonfly\", \"https://en.wikipedia.org/wiki/Ladybug\", \"https://en.wikipedia.org/wiki/Bee\", \"https://en.wikipedia.org/wiki/Ant\", \"https://en.wikipedia.org/wiki/Spider\", \"https://en.wikipedia.org/wiki/Snake\", \"https://en.wikipedia.org/wiki/Lizard\", \"https://en.wikipedia.org/wiki/Crocodile\", \"https://en.wikipedia.org/wiki/Octopus\", \"https://en.wikipedia.org/wiki/Dolphin\", \"https://en.wikipedia.org/wiki/Starfish\", \"https://en.wikipedia.org/wiki/Seashell\", \"https://en.wikipedia.org/wiki/Coral\", \"https://en.wikipedia.org/wiki/Volcano\", \"https://en.wikipedia.org/wiki/Desert\", \"https://en.wikipedia.org/wiki/Glacier\", \"https://en.wikipedia.org/wiki/Canyon\", \"https://en.wikipedia.org/wiki/Waterfall\", \"https://en.wikipedia.org/wiki/River\", \"https://en.wikipedia.org/wiki/Lake\", \"https://en.wikipedia.org/wiki/Pond\", \"https://en.wikipedia.org/wiki/Island\", \"https://en.wikipedia.org/wiki/Mountain\", \"https://en.wikipedia.org/wiki/Valley\", \"https://en.wikipedia.org/wiki/Forest\", \"https://en.wikipedia.org/wiki/Jungle\", \"https://en.wikipedia.org/wiki/Prairie\", \"https://en.wikipedia.org/wiki/Meadow\", \"https://en.wikipedia.org/wiki/Canyon\", \"https://en.wikipedia.org/wiki/Swamp\", \"https://en.wikipedia.org/wiki/Ocean\", \"https://en.wikipedia.org/wiki/Beach\", \"https://en.wikipedia.org/wiki/Sunrise\", \"https://en.wikipedia.org/wiki/Sunset\", \"https://en.wikipedia.org/wiki/Rainbow\", \"https://en.wikipedia.org/wiki/Cloud\", \"https://en.wikipedia.org/wiki/Storm\", \"https://en.wikipedia.org/wiki/Lightning\", \"https://en.wikipedia.org/wiki/Thunder\", \"https://en.wikipedia.org/wiki/Snow\", \"https://en.wikipedia.org/wiki/Rain\", \"https://en.wikipedia.org/wiki/Wind\", \"https://en.wikipedia.org/wiki/Fog\", \"https://en.wikipedia.org/wiki/Mist\", \"https://en.wikipedia.org/wiki/Horizon\", \"https://en.wikipedia.org/wiki/Galaxy\", \"https://en.wikipedia.org/wiki/Star\", \"https://en.wikipedia.org/wiki/Comet\", \"https://en.wikipedia.org/wiki/Telescope\", \"https://en.wikipedia.org/wiki/Astronaut\", \"https://en.wikipedia.org/wiki/Spaceship\", \"https://en.wikipedia.org/wiki/Satellite\", \"https://en.wikipedia.org/wiki/UFO\", \"https://en.wikipedia.org/wiki/Planet\", \"https://en.wikipedia.org/wiki/Moon\", \"https://en.wikipedia.org/wiki/Mars\", \"https://en.wikipedia.org/wiki/Earth\", \"https://en.wikipedia.org/wiki/Sun\", \"https://en.wikipedia.org/wiki/Star\", \"https://en.wikipedia.org/wiki/Universe\", \"https://en.wikipedia.org/wiki/Solar System\", \"https://en.wikipedia.org/wiki/Atmosphere\", \"https://en.wikipedia.org/wiki/Gravity\", \"https://en.wikipedia.org/wiki/Meteor\", \"https://en.wikipedia.org/wiki/Crater\", \"https://en.wikipedia.org/wiki/Observatory\", \"https://en.wikipedia.org/wiki/Aurora\", \"https://en.wikipedia.org/wiki/Nebula\", \"https://en.wikipedia.org/wiki/Black Hole\", \"https://en.wikipedia.org/wiki/Quasar\", \"https://en.wikipedia.org/wiki/Supernova\", \"https://en.wikipedia.org/wiki/Asteroid\", \"https://en.wikipedia.org/wiki/Galaxy\", \"https://en.wikipedia.org/wiki/Constellation\", \"https://en.wikipedia.org/wiki/Spacesuit\", \"https://en.wikipedia.org/wiki/Alien\", \"https://en.wikipedia.org/wiki/Abduction\", \"https://en.wikipedia.org/wiki/Crop_Circle\", \"https://en.wikipedia.org/wiki/Pyramid\", \"https://en.wikipedia.org/wiki/Sphinx\", \"https://en.wikipedia.org/wiki/Tomb\", \"https://en.wikipedia.org/wiki/Temple\", \"https://en.wikipedia.org/wiki/Castle\", \"https://en.wikipedia.org/wiki/Fortress\", \"https://en.wikipedia.org/wiki/Ruin\", \"https://en.wikipedia.org/wiki/Monument\", \"https://en.wikipedia.org/wiki/Statue\", \"https://en.wikipedia.org/wiki/Bridge\", \"https://en.wikipedia.org/wiki/Arch\", \"https://en.wikipedia.org/wiki/Gate\", \"https://en.wikipedia.org/wiki/Wall\", \"https://en.wikipedia.org/wiki/Tower\", \"https://en.wikipedia.org/wiki/Palace\", \"https://en.wikipedia.org/wiki/Cathedral\", \"https://en.wikipedia.org/wiki/Basilica\", \"https://en.wikipedia.org/wiki/Church\", \"https://en.wikipedia.org/wiki/Mosque\", \"https://en.wikipedia.org/wiki/Synagogue\"\n",
    "]"
   ]
  },
  {
   "cell_type": "code",
   "execution_count": 63,
   "id": "3685ca8a",
   "metadata": {},
   "outputs": [],
   "source": [
    "total_word_count = 0\n",
    "num_articles = len(article_urls)"
   ]
  },
  {
   "cell_type": "code",
   "execution_count": 64,
   "id": "b1c37dfe",
   "metadata": {},
   "outputs": [],
   "source": [
    "for url in article_urls:\n",
    "    # Send a GET request to the article URL\n",
    "    response = requests.get(url)\n",
    "\n",
    "    if response.status_code == 200:\n",
    "        soup = BeautifulSoup(response.text, 'html.parser')\n",
    "        \n",
    "        # Find the article content by selecting the paragraphs within the main article body\n",
    "        paragraphs = soup.find_all(\"p\")\n",
    "        \n",
    "        if paragraphs:\n",
    "            # Extract and preprocess the article content\n",
    "            text = \" \".join(paragraph.get_text() for paragraph in paragraphs)\n",
    "            \n",
    "            # Tokenize the text into words (using space as a delimiter)\n",
    "            words = text.split()\n",
    "            \n",
    "            # Calculate the word count for the current article\n",
    "            word_count = len(words)\n",
    "            \n",
    "            # Add the word count to the total\n",
    "            total_word_count += word_count\n",
    "\n",
    "# Calculate the average word count\n",
    "average_word_count = total_word_count / num_articles"
   ]
  },
  {
   "cell_type": "code",
   "execution_count": 69,
   "id": "690a17b1",
   "metadata": {},
   "outputs": [
    {
     "name": "stdout",
     "output_type": "stream",
     "text": [
      "Total Word Count: 1020425\n",
      "Number of Articles: 209\n",
      "Average Word Count per Article: 4882.42\n"
     ]
    }
   ],
   "source": [
    "print(f\"Total Word Count: {total_word_count}\")\n",
    "print(f\"Number of Articles: {num_articles}\")\n",
    "print(f\"Average Word Count per Article: {average_word_count:.2f}\")"
   ]
  },
  {
   "cell_type": "code",
   "execution_count": 71,
   "id": "4c038624",
   "metadata": {},
   "outputs": [
    {
     "data": {
      "image/png": "[encoded data removed]",
      "text/plain": [
       "<Figure size 640x480 with 1 Axes>"
      ]
     },
     "metadata": {},
     "output_type": "display_data"
    }
   ],
   "source": [
    "word_lengths = [len(title) for title in nouns]\n",
    "\n",
    "# Create a histogram\n",
    "plt.hist(word_lengths, bins=10, alpha=0.5, color='b', edgecolor='black')\n",
    "plt.xlabel('Word Length')\n",
    "plt.ylabel('Frequency')\n",
    "plt.title('Histogram of Word Lengths in Article Titles')\n",
    "plt.grid(True)\n",
    "\n",
    "# Show the histogram\n",
    "plt.show()"
   ]
  },
  {
   "cell_type": "code",
   "execution_count": 10,
   "id": "cad15b7d",
   "metadata": {},
   "outputs": [
    {
     "data": {
      "text/plain": [
       "<Response [200]>"
      ]
     },
     "execution_count": 10,
     "metadata": {},
     "output_type": "execute_result"
    }
   ],
   "source": [
    "newurl = \"https://www.scrapethissite.com/pages/simple/\"\n",
    "response = requests.get(newurl)\n"
   ]
  },
  {
   "cell_type": "code",
   "execution_count": 11,
   "id": "9f6074d9",
   "metadata": {},
   "outputs": [],
   "source": [
    "soup  = BeautifulSoup(response.text,'html.parser')"
   ]
  },
  {
   "cell_type": "code",
   "execution_count": 13,
   "id": "ca121b73",
   "metadata": {},
   "outputs": [],
   "source": [
    "con_el= soup.select(\".country-name\")\n"
   ]
  },
  {
   "cell_type": "code",
   "execution_count": 17,
   "id": "a88f7dfb",
   "metadata": {},
   "outputs": [],
   "source": [
    "strs = []\n",
    "for i in con_el:\n",
    "    strs.append(i.text)"
   ]
  },
  {
   "cell_type": "code",
   "execution_count": 20,
   "id": "6703733b",
   "metadata": {},
   "outputs": [],
   "source": [
    "countries = []\n",
    "for i in strs:\n",
    "    countries.append(i.strip())"
   ]
  },
  {
   "cell_type": "code",
   "execution_count": 22,
   "id": "3e5ca2d7",
   "metadata": {},
   "outputs": [
    {
     "data": {
      "text/plain": [
       "'Armenia'"
      ]
     },
     "execution_count": 22,
     "metadata": {},
     "output_type": "execute_result"
    }
   ],
   "source": [
    "countries[6]"
   ]
  },
  {
   "cell_type": "code",
   "execution_count": null,
   "id": "bfabb187",
   "metadata": {},
   "outputs": [],
   "source": []
  }
 ],
 "metadata": {
  "kernelspec": {
   "display_name": "Python 3 (ipykernel)",
   "language": "python",
   "name": "python3"
  },
  "language_info": {
   "codemirror_mode": {
    "name": "ipython",
    "version": 3
   },
   "file_extension": ".py",
   "mimetype": "text/x-python",
   "name": "python",
   "nbconvert_exporter": "python",
   "pygments_lexer": "ipython3",
   "version": "3.11.4"
  }
 },
 "nbformat": 4,
 "nbformat_minor": 5
}
