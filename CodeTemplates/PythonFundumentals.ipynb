{
 "cells": [
  {
   "cell_type": "code",
   "execution_count": 1,
   "metadata": {
    "id": "bIBt_FTuvB7O"
   },
   "outputs": [],
   "source": [
    "pirates = {\n",
    "    \"Pirate\":[\"Blackbeard\", \"Anne Bonny\", \"Calico Jack\", \"Cheung Po Tsai\", \"Grace O'Malley\", \"Mary Read\", \"Sayyida al Hurra\", \"Ching Shih\", \"Sir Francis Drake\", \"Jean Lafittte\"],\n",
    "    \"Sex\":[\"M\", \"F\", \"M\", \"M\", \"F\", \"F\", \"F\", \"F\", \"M\", \"M\"],\n",
    "    \"Age at Death\":[40, 24, 37, 39, 73, 36, 75, 69, 56, 46],\n",
    "    \"Height\":[6.4, 5.6, 5.6, 5.3, 5.0, 5.1,0.0, 5.3, 5.5, 6.2],\n",
    "    \"Skull and Crossbones\":[False, True, True, False, False, True, False, False, False, False]\n",
    "}"
   ]
  },
  {
   "cell_type": "code",
   "execution_count": 2,
   "metadata": {},
   "outputs": [
    {
     "name": "stdout",
     "output_type": "stream",
     "text": [
      "Blackbeard\n",
      "M\n",
      "40\n",
      "6.4\n",
      "False\n"
     ]
    }
   ],
   "source": [
    "for i in pirates:\n",
    "    print(pirates[i][0])\n",
    "    "
   ]
  },
  {
   "cell_type": "code",
   "execution_count": 3,
   "metadata": {},
   "outputs": [
    {
     "name": "stdout",
     "output_type": "stream",
     "text": [
      "False\n",
      "False\n",
      "False\n",
      "False\n",
      "True\n",
      "False\n",
      "False\n",
      "True\n",
      "True\n",
      "False\n"
     ]
    }
   ],
   "source": [
    "for skull in reversed(pirates[\"Skull and Crossbones\"]):\n",
    "    print(skull)"
   ]
  },
  {
   "cell_type": "code",
   "execution_count": 4,
   "metadata": {},
   "outputs": [
    {
     "name": "stdout",
     "output_type": "stream",
     "text": [
      "Blackbeard\n",
      "Anne Bonny\n",
      "Calico Jack\n",
      "Cheung Po Tsai\n",
      "Grace O'Malley\n",
      "Mary Read\n",
      "Sayyida al Hurra\n",
      "Ching Shih\n",
      "Sir Francis Drake\n",
      "Jean Lafittte\n",
      "40\n",
      "24\n",
      "37\n",
      "39\n",
      "73\n",
      "36\n",
      "75\n",
      "69\n",
      "56\n",
      "46\n",
      "False\n",
      "True\n",
      "True\n",
      "False\n",
      "False\n",
      "True\n",
      "False\n",
      "False\n",
      "False\n",
      "False\n"
     ]
    }
   ],
   "source": [
    "keys_printed = list(pirates.keys())\n",
    "for key in keys_printed[::2]:\n",
    "    for value in pirates[key]:\n",
    "        print(value)\n"
   ]
  },
  {
   "cell_type": "code",
   "execution_count": 5,
   "metadata": {},
   "outputs": [
    {
     "name": "stdout",
     "output_type": "stream",
     "text": [
      "Blackbeard\n",
      "40\n",
      "False\n",
      "Anne Bonny\n",
      "24\n",
      "True\n",
      "Calico Jack\n",
      "37\n",
      "True\n",
      "Cheung Po Tsai\n",
      "39\n",
      "False\n",
      "Grace O'Malley\n",
      "73\n",
      "False\n",
      "Mary Read\n",
      "36\n",
      "True\n",
      "Sayyida al Hurra\n",
      "75\n",
      "False\n",
      "Ching Shih\n",
      "69\n",
      "False\n",
      "Sir Francis Drake\n",
      "56\n",
      "False\n",
      "Jean Lafittte\n",
      "46\n",
      "False\n"
     ]
    }
   ],
   "source": [
    "for i in range(10):\n",
    "        print(pirates[\"Pirate\"][i])\n",
    "        print(pirates[\"Age at Death\"][i])\n",
    "        print(pirates['Skull and Crossbones'][i])"
   ]
  },
  {
   "cell_type": "code",
   "execution_count": 9,
   "metadata": {},
   "outputs": [
    {
     "name": "stdout",
     "output_type": "stream",
     "text": [
      "3\n"
     ]
    }
   ],
   "source": [
    "count = 0\n",
    "for i in range(0, 10):\n",
    "    flags = pirates[\"Skull and Crossbones\"][i]\n",
    "    if flags == True:\n",
    "        count = count + 1\n",
    "           \n",
    "            \n",
    "print(count)\n",
    "\n",
    "        "
   ]
  },
  {
   "cell_type": "code",
   "execution_count": 8,
   "metadata": {},
   "outputs": [
    {
     "data": {
      "text/plain": [
       "20.0"
      ]
     },
     "execution_count": 8,
     "metadata": {},
     "output_type": "execute_result"
    }
   ],
   "source": [
    "count = 0\n",
    "for i in range(10):\n",
    "    if pirates[\"Height\"][i] >= 6.0:\n",
    "        count += 1\n",
    "        \n",
    "percentage = (count/10) * 100\n",
    "percentage\n"
   ]
  },
  {
   "cell_type": "code",
   "execution_count": null,
   "metadata": {},
   "outputs": [],
   "source": []
  }
 ],
 "metadata": {
  "colab": {
   "provenance": []
  },
  "kernelspec": {
   "display_name": "Python 3 (ipykernel)",
   "language": "python",
   "name": "python3"
  },
  "language_info": {
   "codemirror_mode": {
    "name": "ipython",
    "version": 3
   },
   "file_extension": ".py",
   "mimetype": "text/x-python",
   "name": "python",
   "nbconvert_exporter": "python",
   "pygments_lexer": "ipython3",
   "version": "3.11.4"
  }
 },
 "nbformat": 4,
 "nbformat_minor": 1
}
