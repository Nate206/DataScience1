{
 "cells": [
  {
   "cell_type": "code",
   "execution_count": 4,
   "id": "29de971f",
   "metadata": {},
   "outputs": [],
   "source": [
    "thisdict = {\n",
    "    \"x1\":\"Pirate          sex           Age at death            Height                 Skull and Crossbones\",\n",
    "    \"x2\":\"Blackbeard       M                40                    6.4                      False\",\n",
    "    \"x3\":\"Annde Bonny      F                24                    5.6                      True\",\n",
    "    \"x4\":\"Calico Jack      M                37                    5.6                      True\",\n",
    "    \"x5\":\"Cheung Po Tsai   M                39                    5.3                      False\",\n",
    "    \"x6\":\"Grace O'Malley   F                73                    5.0                      False\",\n",
    "    \"x7\":\"Marry Read       F                36                    5.1                      True \",\n",
    "}\n"
   ]
  },
  {
   "cell_type": "code",
   "execution_count": 18,
   "id": "0300f4fc",
   "metadata": {},
   "outputs": [
    {
     "name": "stdout",
     "output_type": "stream",
     "text": [
      "reversed(Skull)\n"
     ]
    }
   ],
   "source": [
    "pirates = {\n",
    "    \"Pirate\": [\"blackbeard\",\"anne bonny\",\"calico jack\", \"cheung po tsai\"],\n",
    "    \"sex\":[\"M\",\"F\",\"M\",\"M\"],\n",
    "    \"Skull\":[False,True,True,False,False,True,False,False,False,False]\n",
    "}\n",
    "print(\"reversed(Skull)\")"
   ]
  },
  {
   "cell_type": "code",
   "execution_count": 14,
   "id": "b4bf4bfb",
   "metadata": {},
   "outputs": [
    {
     "name": "stdout",
     "output_type": "stream",
     "text": [
      "Pirate          sex           Age at death            Height                 Skull and Crossbones\n",
      "Blackbeard       M                40                    6.4                      False\n",
      "Annde Bonny      F                24                    5.6                      True\n",
      "Calico Jack      M                37                    5.6                      True\n",
      "Cheung Po Tsai   M                39                    5.3                      False\n",
      "Grace O'Malley   F                73                    5.0                      False\n",
      "Marry Read       F                36                    5.1                      True \n"
     ]
    }
   ],
   "source": [
    "print(thisdict[\"x1\"])\n",
    "print(thisdict[\"x2\"])\n",
    "print(thisdict[\"x3\"])\n",
    "print(thisdict[\"x4\"])\n",
    "print(thisdict[\"x5\"])\n",
    "print(thisdict[\"x6\"])\n",
    "print(thisdict[\"x7\"])\n",
    "\n"
   ]
  },
  {
   "cell_type": "code",
   "execution_count": 17,
   "id": "8b3f2d91",
   "metadata": {},
   "outputs": [
    {
     "name": "stdout",
     "output_type": "stream",
     "text": [
      "Blackbeard       M                40                    6.4                      False\n"
     ]
    }
   ],
   "source": [
    "print(thisdict[\"x2\"])"
   ]
  },
  {
   "cell_type": "code",
   "execution_count": null,
   "id": "8231b319",
   "metadata": {},
   "outputs": [],
   "source": []
  }
 ],
 "metadata": {
  "kernelspec": {
   "display_name": "Python 3 (ipykernel)",
   "language": "python",
   "name": "python3"
  },
  "language_info": {
   "codemirror_mode": {
    "name": "ipython",
    "version": 3
   },
   "file_extension": ".py",
   "mimetype": "text/x-python",
   "name": "python",
   "nbconvert_exporter": "python",
   "pygments_lexer": "ipython3",
   "version": "3.11.4"
  }
 },
 "nbformat": 4,
 "nbformat_minor": 5
}
